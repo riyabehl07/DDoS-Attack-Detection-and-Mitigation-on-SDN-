{
 "cells": [
  {
   "cell_type": "markdown",
   "metadata": {},
   "source": [
    "# CICIDS2017"
   ]
  },
  {
   "cell_type": "markdown",
   "metadata": {},
   "source": [
    "Adding the necessary libraries:"
   ]
  },
  {
   "cell_type": "code",
   "execution_count": 1,
   "metadata": {},
   "outputs": [
    {
     "name": "stdout",
     "output_type": "stream",
     "text": [
      "Requirement already satisfied: keras in c:\\users\\admin\\appdata\\local\\programs\\python\\python312\\lib\\site-packages (3.3.3)\n",
      "Requirement already satisfied: absl-py in c:\\users\\admin\\appdata\\local\\programs\\python\\python312\\lib\\site-packages (from keras) (2.1.0)\n",
      "Requirement already satisfied: numpy in c:\\users\\admin\\appdata\\local\\programs\\python\\python312\\lib\\site-packages (from keras) (1.26.4)\n",
      "Requirement already satisfied: rich in c:\\users\\admin\\appdata\\local\\programs\\python\\python312\\lib\\site-packages (from keras) (13.7.1)\n",
      "Requirement already satisfied: namex in c:\\users\\admin\\appdata\\local\\programs\\python\\python312\\lib\\site-packages (from keras) (0.0.8)\n",
      "Requirement already satisfied: h5py in c:\\users\\admin\\appdata\\local\\programs\\python\\python312\\lib\\site-packages (from keras) (3.11.0)\n",
      "Requirement already satisfied: optree in c:\\users\\admin\\appdata\\local\\programs\\python\\python312\\lib\\site-packages (from keras) (0.11.0)\n",
      "Requirement already satisfied: ml-dtypes in c:\\users\\admin\\appdata\\local\\programs\\python\\python312\\lib\\site-packages (from keras) (0.3.2)\n",
      "Requirement already satisfied: typing-extensions>=4.0.0 in c:\\users\\admin\\appdata\\local\\programs\\python\\python312\\lib\\site-packages (from optree->keras) (4.11.0)\n",
      "Requirement already satisfied: markdown-it-py>=2.2.0 in c:\\users\\admin\\appdata\\local\\programs\\python\\python312\\lib\\site-packages (from rich->keras) (3.0.0)\n",
      "Requirement already satisfied: pygments<3.0.0,>=2.13.0 in c:\\users\\admin\\appdata\\roaming\\python\\python312\\site-packages (from rich->keras) (2.17.2)\n",
      "Requirement already satisfied: mdurl~=0.1 in c:\\users\\admin\\appdata\\local\\programs\\python\\python312\\lib\\site-packages (from markdown-it-py>=2.2.0->rich->keras) (0.1.2)\n",
      "Note: you may need to restart the kernel to use updated packages.\n"
     ]
    }
   ],
   "source": [
    "pip install keras\n"
   ]
  },
  {
   "cell_type": "code",
   "execution_count": 44,
   "metadata": {
    "scrolled": true
   },
   "outputs": [],
   "source": [
    "import numpy as np\n",
    "import pandas as pd\n",
    "import seaborn as sns\n",
    "import matplotlib.pyplot as plt\n",
    "from sklearn import preprocessing\n",
    "from sklearn.impute import SimpleImputer\n",
    "from sklearn.model_selection import train_test_split, cross_val_score\n",
    "from sklearn.ensemble import RandomForestClassifier, RandomForestRegressor\n",
    "from sklearn.decomposition import PCA\n",
    "from sklearn.metrics import confusion_matrix, accuracy_score, precision_recall_fscore_support\n",
    "from sklearn.neighbors import KNeighborsClassifier\n",
    "from sklearn.tree import DecisionTreeClassifier\n",
    "from sklearn.svm import SVC\n",
    "from keras.models import Sequential\n",
    "from keras.layers import Dense\n",
    "from keras.optimizers import Adam\n",
    "from sklearn.preprocessing import LabelEncoder\n"
   ]
  },
  {
   "cell_type": "markdown",
   "metadata": {},
   "source": [
    "First identified the attack types which we want to use in our dataset, which are DDoS. Then created a .csv file containing the traffic for these three attack types as well as BENIGN (normal) traffic.\n",
    "\n",
    "The process includes reading the data from the dataset file, merging the DDoS attacks, reducing noise, finding and replacing NaN values with column averages, and converting data types to int64 and float64."
   ]
  },
  {
   "cell_type": "code",
   "execution_count": null,
   "metadata": {},
   "outputs": [],
   "source": [
    "import pandas as pd\n",
    "\n",
    "# Read the CSV file in chunks\n",
    "chunk_size = 10000  # Adjust the chunk size as needed\n",
    "chunks = pd.read_csv(\"C:/Users/Admin/Desktop/project exhibition/CICIDS2017/dataset.csv\", chunksize=chunk_size)\n",
    "\n",
    "# Initialize an empty DataFrame to store the processed chunks\n",
    "df = pd.DataFrame()\n",
    "\n",
    "# Process each chunk separately to reduce memory usage\n",
    "for chunk in chunks:\n",
    "    # Count the occurrences of each unique value in the ' Label' column for this chunk\n",
    "    chunk_value = chunk[' Label'].value_counts()\n",
    "    \n",
    "    # Map labels to a reduced set of labels for this chunk\n",
    "    label_mapping = {\n",
    "        'DoS Hulk': 'DoS',\n",
    "        'DoS GoldenEye': 'DoS',\n",
    "        'DoS Slowhttptest': 'DoS',\n",
    "        'DoS slowloris': 'DoS',\n",
    "        'BENIGN': 'BENIGN',\n",
    "        'DDoS': 'DDoS',\n",
    "        'PortScan': 'PortScan'\n",
    "    }\n",
    "    chunk[' Label'] = chunk[' Label'].apply(lambda x: label_mapping.get(x, x))\n",
    "    \n",
    "    # Drop duplicate rows for this chunk\n",
    "    chunk = chunk.drop_duplicates()\n",
    "    \n",
    "    # Concatenate this chunk with the main DataFrame\n",
    "    df = pd.concat([df, chunk], ignore_index=True)\n",
    "\n",
    "# Count the occurrences of each unique value in the ' Label' column of the new DataFrame\n",
    "df_value = df[' Label'].value_counts()\n",
    "\n",
    "# Check the data types of the columns\n",
    "datatype = df.dtypes\n",
    "\n",
    "# Convert 'Flow Bytes/s' and ' Flow Packets/s' columns to float64 data type\n",
    "df['Flow Bytes/s'] = pd.to_numeric(df['Flow Bytes/s'], errors='coerce')\n",
    "df[' Flow Packets/s'] = pd.to_numeric(df[' Flow Packets/s'], errors='coerce')\n",
    "\n",
    "# Handle NaN values by filling them with the mean value of the respective columns\n",
    "df['Flow Bytes/s'].fillna(df['Flow Bytes/s'].mean(), inplace=True)\n",
    "df[' Flow Packets/s'].fillna(df[' Flow Packets/s'].mean(), inplace=True)\n",
    "\n",
    "# Print various statistics and information about the dataset before and after preprocessing\n",
    "print('Original dataset value counts:\\n', df_value)\n",
    "print('Original dataset shape:', df.shape)\n"
   ]
  },
  {
   "cell_type": "markdown",
   "metadata": {},
   "source": [
    "Converting the final dataset to .csv format."
   ]
  },
  {
   "cell_type": "markdown",
   "metadata": {},
   "source": [
    "Saving the DataFrame df2 to a .csv file named \"dataset.csv\" with comma-separated values, encoded in UTF-8 format, and without including the index column."
   ]
  },
  {
   "cell_type": "markdown",
   "metadata": {},
   "source": [
    "Proceeding by reading the newly created \"dataset.csv\" file for further steps. "
   ]
  },
  {
   "cell_type": "markdown",
   "metadata": {},
   "source": [
    "Reading the dataset.csv file and displaying the dataset."
   ]
  },
  {
   "cell_type": "code",
   "execution_count": 3,
   "metadata": {},
   "outputs": [
    {
     "name": "stdout",
     "output_type": "stream",
     "text": [
      "          Destination Port   Flow Duration   Total Fwd Packets  \\\n",
      "0                    54865               3                   2   \n",
      "1                    55054             109                   1   \n",
      "2                    55055              52                   1   \n",
      "3                    46236              34                   1   \n",
      "4                    54863               3                   2   \n",
      "...                    ...             ...                 ...   \n",
      "1042552                 53           32215                   4   \n",
      "1042553                 53             324                   2   \n",
      "1042554              58030              82                   2   \n",
      "1042555                 53         1048635                   6   \n",
      "1042556                 53           94939                   4   \n",
      "\n",
      "          Total Backward Packets  Total Length of Fwd Packets  \\\n",
      "0                              0                           12   \n",
      "1                              1                            6   \n",
      "2                              1                            6   \n",
      "3                              1                            6   \n",
      "4                              0                           12   \n",
      "...                          ...                          ...   \n",
      "1042552                        2                          112   \n",
      "1042553                        2                           84   \n",
      "1042554                        1                           31   \n",
      "1042555                        2                          192   \n",
      "1042556                        2                          188   \n",
      "\n",
      "          Total Length of Bwd Packets   Fwd Packet Length Max  \\\n",
      "0                                   0                       6   \n",
      "1                                   6                       6   \n",
      "2                                   6                       6   \n",
      "3                                   6                       6   \n",
      "4                                   0                       6   \n",
      "...                               ...                     ...   \n",
      "1042552                           152                      28   \n",
      "1042553                           362                      42   \n",
      "1042554                             6                      31   \n",
      "1042555                           256                      32   \n",
      "1042556                           226                      47   \n",
      "\n",
      "          Fwd Packet Length Min   Fwd Packet Length Mean  \\\n",
      "0                             6                      6.0   \n",
      "1                             6                      6.0   \n",
      "2                             6                      6.0   \n",
      "3                             6                      6.0   \n",
      "4                             6                      6.0   \n",
      "...                         ...                      ...   \n",
      "1042552                      28                     28.0   \n",
      "1042553                      42                     42.0   \n",
      "1042554                       0                     15.5   \n",
      "1042555                      32                     32.0   \n",
      "1042556                      47                     47.0   \n",
      "\n",
      "          Fwd Packet Length Std  ...   min_seg_size_forward  Active Mean  \\\n",
      "0                       0.00000  ...                     20          0.0   \n",
      "1                       0.00000  ...                     20          0.0   \n",
      "2                       0.00000  ...                     20          0.0   \n",
      "3                       0.00000  ...                     20          0.0   \n",
      "4                       0.00000  ...                     20          0.0   \n",
      "...                         ...  ...                    ...          ...   \n",
      "1042552                 0.00000  ...                     20          0.0   \n",
      "1042553                 0.00000  ...                     20          0.0   \n",
      "1042554                21.92031  ...                     32          0.0   \n",
      "1042555                 0.00000  ...                     20          0.0   \n",
      "1042556                 0.00000  ...                     20          0.0   \n",
      "\n",
      "          Active Std   Active Max   Active Min  Idle Mean   Idle Std  \\\n",
      "0                0.0            0            0        0.0        0.0   \n",
      "1                0.0            0            0        0.0        0.0   \n",
      "2                0.0            0            0        0.0        0.0   \n",
      "3                0.0            0            0        0.0        0.0   \n",
      "4                0.0            0            0        0.0        0.0   \n",
      "...              ...          ...          ...        ...        ...   \n",
      "1042552          0.0            0            0        0.0        0.0   \n",
      "1042553          0.0            0            0        0.0        0.0   \n",
      "1042554          0.0            0            0        0.0        0.0   \n",
      "1042555          0.0            0            0        0.0        0.0   \n",
      "1042556          0.0            0            0        0.0        0.0   \n",
      "\n",
      "          Idle Max   Idle Min   Label  \n",
      "0                0          0  BENIGN  \n",
      "1                0          0  BENIGN  \n",
      "2                0          0  BENIGN  \n",
      "3                0          0  BENIGN  \n",
      "4                0          0  BENIGN  \n",
      "...            ...        ...     ...  \n",
      "1042552          0          0  BENIGN  \n",
      "1042553          0          0  BENIGN  \n",
      "1042554          0          0  BENIGN  \n",
      "1042555          0          0  BENIGN  \n",
      "1042556          0          0  BENIGN  \n",
      "\n",
      "[1042557 rows x 79 columns]\n"
     ]
    }
   ],
   "source": [
    "import pandas as pd\n",
    "\n",
    "dataset = pd.read_csv(\"C:/Users/Admin/Desktop/project exhibition/CICIDS2017/dataset.csv\")\n",
    "print(dataset)\n"
   ]
  },
  {
   "cell_type": "markdown",
   "metadata": {},
   "source": [
    "Applying algorithms in pairs of binary groups: (DDoS, BENIGN); initially extracted rows with specific labels from the existing dataframe to create new dataframes."
   ]
  },
  {
   "cell_type": "markdown",
   "metadata": {},
   "source": [
    "Creating a dataframe containing DDoS and BENIGN labels."
   ]
  },
  {
   "cell_type": "code",
   "execution_count": 4,
   "metadata": {},
   "outputs": [],
   "source": [
    "import pandas as pd\n",
    "\n",
    "# Assuming dataset is your DataFrame\n",
    "DDoS_df1 = dataset[dataset[' Label'] == 'BENIGN']\n",
    "DDoS_df2 = dataset[dataset[' Label'] == 'DDoS']\n",
    "\n",
    "# Concatenate the two DataFrames vertically\n",
    "DDoS_df = pd.concat([DDoS_df1, DDoS_df2], ignore_index=True)\n",
    "\n",
    "# Now DDoS_df contains rows from both DDoS_df1 and DDoS_df2\n"
   ]
  },
  {
   "cell_type": "markdown",
   "metadata": {},
   "source": [
    "Labeling attack traffic as abnormal and BENIGN traffic as normal, then creating the dataframe."
   ]
  },
  {
   "cell_type": "code",
   "execution_count": 5,
   "metadata": {
    "scrolled": true
   },
   "outputs": [
    {
     "data": {
      "text/html": [
       "<div>\n",
       "<style scoped>\n",
       "    .dataframe tbody tr th:only-of-type {\n",
       "        vertical-align: middle;\n",
       "    }\n",
       "\n",
       "    .dataframe tbody tr th {\n",
       "        vertical-align: top;\n",
       "    }\n",
       "\n",
       "    .dataframe thead th {\n",
       "        text-align: right;\n",
       "    }\n",
       "</style>\n",
       "<table border=\"1\" class=\"dataframe\">\n",
       "  <thead>\n",
       "    <tr style=\"text-align: right;\">\n",
       "      <th></th>\n",
       "      <th>Destination Port</th>\n",
       "      <th>Flow Duration</th>\n",
       "      <th>Total Fwd Packets</th>\n",
       "      <th>Total Backward Packets</th>\n",
       "      <th>Total Length of Fwd Packets</th>\n",
       "      <th>Total Length of Bwd Packets</th>\n",
       "      <th>Fwd Packet Length Max</th>\n",
       "      <th>Fwd Packet Length Min</th>\n",
       "      <th>Fwd Packet Length Mean</th>\n",
       "      <th>Fwd Packet Length Std</th>\n",
       "      <th>...</th>\n",
       "      <th>min_seg_size_forward</th>\n",
       "      <th>Active Mean</th>\n",
       "      <th>Active Std</th>\n",
       "      <th>Active Max</th>\n",
       "      <th>Active Min</th>\n",
       "      <th>Idle Mean</th>\n",
       "      <th>Idle Std</th>\n",
       "      <th>Idle Max</th>\n",
       "      <th>Idle Min</th>\n",
       "      <th>Label</th>\n",
       "    </tr>\n",
       "  </thead>\n",
       "  <tbody>\n",
       "    <tr>\n",
       "      <th>0</th>\n",
       "      <td>54865</td>\n",
       "      <td>3</td>\n",
       "      <td>2</td>\n",
       "      <td>0</td>\n",
       "      <td>12</td>\n",
       "      <td>0</td>\n",
       "      <td>6</td>\n",
       "      <td>6</td>\n",
       "      <td>6.0</td>\n",
       "      <td>0.00000</td>\n",
       "      <td>...</td>\n",
       "      <td>20</td>\n",
       "      <td>0.0</td>\n",
       "      <td>0.0</td>\n",
       "      <td>0</td>\n",
       "      <td>0</td>\n",
       "      <td>0.0</td>\n",
       "      <td>0.0</td>\n",
       "      <td>0</td>\n",
       "      <td>0</td>\n",
       "      <td>Normal</td>\n",
       "    </tr>\n",
       "    <tr>\n",
       "      <th>1</th>\n",
       "      <td>55054</td>\n",
       "      <td>109</td>\n",
       "      <td>1</td>\n",
       "      <td>1</td>\n",
       "      <td>6</td>\n",
       "      <td>6</td>\n",
       "      <td>6</td>\n",
       "      <td>6</td>\n",
       "      <td>6.0</td>\n",
       "      <td>0.00000</td>\n",
       "      <td>...</td>\n",
       "      <td>20</td>\n",
       "      <td>0.0</td>\n",
       "      <td>0.0</td>\n",
       "      <td>0</td>\n",
       "      <td>0</td>\n",
       "      <td>0.0</td>\n",
       "      <td>0.0</td>\n",
       "      <td>0</td>\n",
       "      <td>0</td>\n",
       "      <td>Normal</td>\n",
       "    </tr>\n",
       "    <tr>\n",
       "      <th>2</th>\n",
       "      <td>55055</td>\n",
       "      <td>52</td>\n",
       "      <td>1</td>\n",
       "      <td>1</td>\n",
       "      <td>6</td>\n",
       "      <td>6</td>\n",
       "      <td>6</td>\n",
       "      <td>6</td>\n",
       "      <td>6.0</td>\n",
       "      <td>0.00000</td>\n",
       "      <td>...</td>\n",
       "      <td>20</td>\n",
       "      <td>0.0</td>\n",
       "      <td>0.0</td>\n",
       "      <td>0</td>\n",
       "      <td>0</td>\n",
       "      <td>0.0</td>\n",
       "      <td>0.0</td>\n",
       "      <td>0</td>\n",
       "      <td>0</td>\n",
       "      <td>Normal</td>\n",
       "    </tr>\n",
       "    <tr>\n",
       "      <th>3</th>\n",
       "      <td>46236</td>\n",
       "      <td>34</td>\n",
       "      <td>1</td>\n",
       "      <td>1</td>\n",
       "      <td>6</td>\n",
       "      <td>6</td>\n",
       "      <td>6</td>\n",
       "      <td>6</td>\n",
       "      <td>6.0</td>\n",
       "      <td>0.00000</td>\n",
       "      <td>...</td>\n",
       "      <td>20</td>\n",
       "      <td>0.0</td>\n",
       "      <td>0.0</td>\n",
       "      <td>0</td>\n",
       "      <td>0</td>\n",
       "      <td>0.0</td>\n",
       "      <td>0.0</td>\n",
       "      <td>0</td>\n",
       "      <td>0</td>\n",
       "      <td>Normal</td>\n",
       "    </tr>\n",
       "    <tr>\n",
       "      <th>4</th>\n",
       "      <td>54863</td>\n",
       "      <td>3</td>\n",
       "      <td>2</td>\n",
       "      <td>0</td>\n",
       "      <td>12</td>\n",
       "      <td>0</td>\n",
       "      <td>6</td>\n",
       "      <td>6</td>\n",
       "      <td>6.0</td>\n",
       "      <td>0.00000</td>\n",
       "      <td>...</td>\n",
       "      <td>20</td>\n",
       "      <td>0.0</td>\n",
       "      <td>0.0</td>\n",
       "      <td>0</td>\n",
       "      <td>0</td>\n",
       "      <td>0.0</td>\n",
       "      <td>0.0</td>\n",
       "      <td>0</td>\n",
       "      <td>0</td>\n",
       "      <td>Normal</td>\n",
       "    </tr>\n",
       "    <tr>\n",
       "      <th>...</th>\n",
       "      <td>...</td>\n",
       "      <td>...</td>\n",
       "      <td>...</td>\n",
       "      <td>...</td>\n",
       "      <td>...</td>\n",
       "      <td>...</td>\n",
       "      <td>...</td>\n",
       "      <td>...</td>\n",
       "      <td>...</td>\n",
       "      <td>...</td>\n",
       "      <td>...</td>\n",
       "      <td>...</td>\n",
       "      <td>...</td>\n",
       "      <td>...</td>\n",
       "      <td>...</td>\n",
       "      <td>...</td>\n",
       "      <td>...</td>\n",
       "      <td>...</td>\n",
       "      <td>...</td>\n",
       "      <td>...</td>\n",
       "      <td>...</td>\n",
       "    </tr>\n",
       "    <tr>\n",
       "      <th>1042552</th>\n",
       "      <td>53</td>\n",
       "      <td>32215</td>\n",
       "      <td>4</td>\n",
       "      <td>2</td>\n",
       "      <td>112</td>\n",
       "      <td>152</td>\n",
       "      <td>28</td>\n",
       "      <td>28</td>\n",
       "      <td>28.0</td>\n",
       "      <td>0.00000</td>\n",
       "      <td>...</td>\n",
       "      <td>20</td>\n",
       "      <td>0.0</td>\n",
       "      <td>0.0</td>\n",
       "      <td>0</td>\n",
       "      <td>0</td>\n",
       "      <td>0.0</td>\n",
       "      <td>0.0</td>\n",
       "      <td>0</td>\n",
       "      <td>0</td>\n",
       "      <td>Normal</td>\n",
       "    </tr>\n",
       "    <tr>\n",
       "      <th>1042553</th>\n",
       "      <td>53</td>\n",
       "      <td>324</td>\n",
       "      <td>2</td>\n",
       "      <td>2</td>\n",
       "      <td>84</td>\n",
       "      <td>362</td>\n",
       "      <td>42</td>\n",
       "      <td>42</td>\n",
       "      <td>42.0</td>\n",
       "      <td>0.00000</td>\n",
       "      <td>...</td>\n",
       "      <td>20</td>\n",
       "      <td>0.0</td>\n",
       "      <td>0.0</td>\n",
       "      <td>0</td>\n",
       "      <td>0</td>\n",
       "      <td>0.0</td>\n",
       "      <td>0.0</td>\n",
       "      <td>0</td>\n",
       "      <td>0</td>\n",
       "      <td>Normal</td>\n",
       "    </tr>\n",
       "    <tr>\n",
       "      <th>1042554</th>\n",
       "      <td>58030</td>\n",
       "      <td>82</td>\n",
       "      <td>2</td>\n",
       "      <td>1</td>\n",
       "      <td>31</td>\n",
       "      <td>6</td>\n",
       "      <td>31</td>\n",
       "      <td>0</td>\n",
       "      <td>15.5</td>\n",
       "      <td>21.92031</td>\n",
       "      <td>...</td>\n",
       "      <td>32</td>\n",
       "      <td>0.0</td>\n",
       "      <td>0.0</td>\n",
       "      <td>0</td>\n",
       "      <td>0</td>\n",
       "      <td>0.0</td>\n",
       "      <td>0.0</td>\n",
       "      <td>0</td>\n",
       "      <td>0</td>\n",
       "      <td>Normal</td>\n",
       "    </tr>\n",
       "    <tr>\n",
       "      <th>1042555</th>\n",
       "      <td>53</td>\n",
       "      <td>1048635</td>\n",
       "      <td>6</td>\n",
       "      <td>2</td>\n",
       "      <td>192</td>\n",
       "      <td>256</td>\n",
       "      <td>32</td>\n",
       "      <td>32</td>\n",
       "      <td>32.0</td>\n",
       "      <td>0.00000</td>\n",
       "      <td>...</td>\n",
       "      <td>20</td>\n",
       "      <td>0.0</td>\n",
       "      <td>0.0</td>\n",
       "      <td>0</td>\n",
       "      <td>0</td>\n",
       "      <td>0.0</td>\n",
       "      <td>0.0</td>\n",
       "      <td>0</td>\n",
       "      <td>0</td>\n",
       "      <td>Normal</td>\n",
       "    </tr>\n",
       "    <tr>\n",
       "      <th>1042556</th>\n",
       "      <td>53</td>\n",
       "      <td>94939</td>\n",
       "      <td>4</td>\n",
       "      <td>2</td>\n",
       "      <td>188</td>\n",
       "      <td>226</td>\n",
       "      <td>47</td>\n",
       "      <td>47</td>\n",
       "      <td>47.0</td>\n",
       "      <td>0.00000</td>\n",
       "      <td>...</td>\n",
       "      <td>20</td>\n",
       "      <td>0.0</td>\n",
       "      <td>0.0</td>\n",
       "      <td>0</td>\n",
       "      <td>0</td>\n",
       "      <td>0.0</td>\n",
       "      <td>0.0</td>\n",
       "      <td>0</td>\n",
       "      <td>0</td>\n",
       "      <td>Normal</td>\n",
       "    </tr>\n",
       "  </tbody>\n",
       "</table>\n",
       "<p>1042557 rows × 79 columns</p>\n",
       "</div>"
      ],
      "text/plain": [
       "          Destination Port   Flow Duration   Total Fwd Packets  \\\n",
       "0                    54865               3                   2   \n",
       "1                    55054             109                   1   \n",
       "2                    55055              52                   1   \n",
       "3                    46236              34                   1   \n",
       "4                    54863               3                   2   \n",
       "...                    ...             ...                 ...   \n",
       "1042552                 53           32215                   4   \n",
       "1042553                 53             324                   2   \n",
       "1042554              58030              82                   2   \n",
       "1042555                 53         1048635                   6   \n",
       "1042556                 53           94939                   4   \n",
       "\n",
       "          Total Backward Packets  Total Length of Fwd Packets  \\\n",
       "0                              0                           12   \n",
       "1                              1                            6   \n",
       "2                              1                            6   \n",
       "3                              1                            6   \n",
       "4                              0                           12   \n",
       "...                          ...                          ...   \n",
       "1042552                        2                          112   \n",
       "1042553                        2                           84   \n",
       "1042554                        1                           31   \n",
       "1042555                        2                          192   \n",
       "1042556                        2                          188   \n",
       "\n",
       "          Total Length of Bwd Packets   Fwd Packet Length Max  \\\n",
       "0                                   0                       6   \n",
       "1                                   6                       6   \n",
       "2                                   6                       6   \n",
       "3                                   6                       6   \n",
       "4                                   0                       6   \n",
       "...                               ...                     ...   \n",
       "1042552                           152                      28   \n",
       "1042553                           362                      42   \n",
       "1042554                             6                      31   \n",
       "1042555                           256                      32   \n",
       "1042556                           226                      47   \n",
       "\n",
       "          Fwd Packet Length Min   Fwd Packet Length Mean  \\\n",
       "0                             6                      6.0   \n",
       "1                             6                      6.0   \n",
       "2                             6                      6.0   \n",
       "3                             6                      6.0   \n",
       "4                             6                      6.0   \n",
       "...                         ...                      ...   \n",
       "1042552                      28                     28.0   \n",
       "1042553                      42                     42.0   \n",
       "1042554                       0                     15.5   \n",
       "1042555                      32                     32.0   \n",
       "1042556                      47                     47.0   \n",
       "\n",
       "          Fwd Packet Length Std  ...   min_seg_size_forward  Active Mean  \\\n",
       "0                       0.00000  ...                     20          0.0   \n",
       "1                       0.00000  ...                     20          0.0   \n",
       "2                       0.00000  ...                     20          0.0   \n",
       "3                       0.00000  ...                     20          0.0   \n",
       "4                       0.00000  ...                     20          0.0   \n",
       "...                         ...  ...                    ...          ...   \n",
       "1042552                 0.00000  ...                     20          0.0   \n",
       "1042553                 0.00000  ...                     20          0.0   \n",
       "1042554                21.92031  ...                     32          0.0   \n",
       "1042555                 0.00000  ...                     20          0.0   \n",
       "1042556                 0.00000  ...                     20          0.0   \n",
       "\n",
       "          Active Std   Active Max   Active Min  Idle Mean   Idle Std  \\\n",
       "0                0.0            0            0        0.0        0.0   \n",
       "1                0.0            0            0        0.0        0.0   \n",
       "2                0.0            0            0        0.0        0.0   \n",
       "3                0.0            0            0        0.0        0.0   \n",
       "4                0.0            0            0        0.0        0.0   \n",
       "...              ...          ...          ...        ...        ...   \n",
       "1042552          0.0            0            0        0.0        0.0   \n",
       "1042553          0.0            0            0        0.0        0.0   \n",
       "1042554          0.0            0            0        0.0        0.0   \n",
       "1042555          0.0            0            0        0.0        0.0   \n",
       "1042556          0.0            0            0        0.0        0.0   \n",
       "\n",
       "          Idle Max   Idle Min   Label  \n",
       "0                0          0  Normal  \n",
       "1                0          0  Normal  \n",
       "2                0          0  Normal  \n",
       "3                0          0  Normal  \n",
       "4                0          0  Normal  \n",
       "...            ...        ...     ...  \n",
       "1042552          0          0  Normal  \n",
       "1042553          0          0  Normal  \n",
       "1042554          0          0  Normal  \n",
       "1042555          0          0  Normal  \n",
       "1042556          0          0  Normal  \n",
       "\n",
       "[1042557 rows x 79 columns]"
      ]
     },
     "execution_count": 5,
     "metadata": {},
     "output_type": "execute_result"
    }
   ],
   "source": [
    "NA_df=dataset\n",
    "NA_df[' Label']=NA_df[' Label'].apply({'DoS':'Anormal','BENIGN':'Normal' ,'DDoS':'Anormal', 'PortScan':'Anormal'}.get)\n",
    "NA_df"
   ]
  },
  {
   "cell_type": "markdown",
   "metadata": {},
   "source": [
    "Created CSV files for the datasets generated to use in KNIME."
   ]
  },
  {
   "cell_type": "markdown",
   "metadata": {},
   "source": [
    "Here are the filenames and corresponding dataframes:\n",
    "\n",
    "'DDoS_dataset.csv': DDoS_df\n",
    "'NormalAnormal_dataset.csv': NA_df\n",
    "\n",
    "\n",
    "\n",
    "\n",
    "\n"
   ]
  },
  {
   "cell_type": "markdown",
   "metadata": {},
   "source": [
    "NaN_values2=DDoS_df.isnull().sum()\n",
    "NaN_values4=NA_df.isnull().sum()\n",
    "NaN_values2\n",
    "NaN_values4"
   ]
  },
  {
   "cell_type": "markdown",
   "metadata": {},
   "source": [
    "Methods for algorithm"
   ]
  },
  {
   "cell_type": "code",
   "execution_count": 64,
   "metadata": {},
   "outputs": [],
   "source": [
    "def train_test_dataset(df):\n",
    "    labelencoder = LabelEncoder()\n",
    "    df.iloc[:, -1] = labelencoder.fit_transform(df.iloc[:, -1])\n",
    "    X = df.drop([' Label'],axis=1) \n",
    "    y = df.iloc[:, -1].values.reshape(-1,1)\n",
    "    y=np.ravel(y)\n",
    "    X_train, X_test, y_train, y_test = train_test_split(X,y, train_size = 0.7, test_size = 0.3, random_state = 0, stratify = y)\n",
    "    return  X_train, X_test, y_train, y_test"
   ]
  },
  {
   "cell_type": "code",
   "execution_count": null,
   "metadata": {},
   "outputs": [],
   "source": [
    "def RandomForest(X_train, X_test, y_train, y_test):\n",
    "    rf = RandomForestClassifier(random_state = 0)\n",
    "    imputer = Imputer(missing_values=\"NaN\", strategy = \"mean\")\n",
    "    imputer = imputer.fit(X_train)\n",
    "    X_train = imputer.transform(X_train)\n",
    "    X_test = imputer.transform(X_test)\n",
    "    rf.fit(X_train,y_train) # modelin veri üzerinde öğrenmesi fit fonksiyonuyla yapılıyor\n",
    "    rf_score=rf.score(X_test,y_test)\n",
    "    y_predict=rf.predict(X_test)\n",
    "    y_true=y_test\n",
    "    print('Random Forest Accuracy:'+ str(rf_score))\n",
    "    precision,recall,fscore,none= precision_recall_fscore_support(y_true, y_predict, average='weighted') \n",
    "    print('Random Forest precision_recall_fscore:'+(str(precision))+(str(recall))+(str(fscore)))\n",
    "    \n",
    "    cm=confusion_matrix(y_true,y_predict)\n",
    "    f,ax=plt.subplots(figsize=(5,5))\n",
    "    sns.heatmap(cm,annot=True,linewidth=0.5,linecolor=\"red\",fmt=\".0f\",ax=ax)\n",
    "    plt.xlabel(\"y_pred\")\n",
    "    plt.ylabel(\"y_true\")\n",
    "    plt.show()\n",
    "    return rf_score,precision,recall,fscore,none\n",
    "    "
   ]
  },
  {
   "cell_type": "code",
   "execution_count": null,
   "metadata": {},
   "outputs": [],
   "source": [
    "def DecisionTree(X_train, X_test, y_train, y_test):\n",
    "    dt = DecisionTreeClassifier(random_state = 0)\n",
    "    imputer = Imputer(missing_values=\"NaN\", strategy = \"mean\")\n",
    "    imputer = imputer.fit(X_train)\n",
    "    X_train = imputer.transform(X_train)\n",
    "    X_test = imputer.transform(X_test)\n",
    "    dt.fit(X_train, y_train)\n",
    "    score=dt.score(X_test,y_test)\n",
    "    print('Decision Tree Accuracy:'+ str(score))\n",
    "   # print('Decision Tree Accuracy2:'+ str(accuracy_score(y_test, y_predict)))\n",
    "    y_predict=dt.predict(X_test)\n",
    "    y_true=y_test\n",
    "    precision,recall,fscore,none= precision_recall_fscore_support(y_true, y_predict, average='weighted') \n",
    "    print('Decision Tree precision_recall_fscore:'+(str(precision))+(str(recall))+(str(fscore)))\n",
    "    cm=confusion_matrix(y_true,y_predict)\n",
    "    f,ax=plt.subplots(figsize=(5,5))\n",
    "    sns.heatmap(cm,annot=True,linewidth=0.5,linecolor=\"red\",fmt=\".0f\",ax=ax)\n",
    "    plt.xlabel(\"y_pred\")\n",
    "    plt.ylabel(\"y_true\")\n",
    "    plt.show()\n",
    "    return score,precision,recall,fscore,none"
   ]
  },
  {
   "cell_type": "code",
   "execution_count": null,
   "metadata": {},
   "outputs": [],
   "source": [
    "def kNN(X_train, X_test, y_train, y_test):\n",
    "    knn=KNeighborsClassifier(n_neighbors=5)\n",
    "    imputer = Imputer(missing_values=\"NaN\", strategy = \"mean\")\n",
    "    imputer = imputer.fit(X_train)\n",
    "    X_train = imputer.transform(X_train)\n",
    "    X_test = imputer.transform(X_test)\n",
    "    knn.fit(X_train,y_train) \n",
    "    prediction=knn.predict(X_test)\n",
    "    score=knn.score(X_test,y_test)\n",
    "    print(\"5 nn score:\"+ str(score))\n",
    "    y_predict=knn.predict(X_test)\n",
    "    y_true=y_test\n",
    "    precision,recall,fscore,none= precision_recall_fscore_support(y_true, y_predict, average='weighted') \n",
    "    print('5nn precision_recall_fscore:'+(str(precision))+(str(recall))+(str(fscore)))\n",
    "    cm=confusion_matrix(y_true,y_predict)\n",
    "    f,ax=plt.subplots(figsize=(5,5))\n",
    "    sns.heatmap(cm,annot=True,linewidth=0.5,linecolor=\"red\",fmt=\".0f\",ax=ax)\n",
    "    plt.xlabel(\"y_pred\")\n",
    "    plt.ylabel(\"y_true\")\n",
    "    plt.show()\n",
    "    return score,precision,recall,fscore,none\n",
    "    "
   ]
  },
  {
   "cell_type": "code",
   "execution_count": null,
   "metadata": {},
   "outputs": [],
   "source": [
    "def SVM(X_train, X_test, y_train, y_test):\n",
    "    svclassifier = SVC(kernel='linear')  \n",
    "    imputer = Imputer(missing_values=\"NaN\", strategy = \"mean\")\n",
    "    imputer = imputer.fit(X_train)\n",
    "    X_train = imputer.transform(X_train)\n",
    "    X_test = imputer.transform(X_test)\n",
    "    svclassifier.fit(X_train, y_train) \n",
    "    print(\"SVM Classification Accuracy:\"+ str(svclassifier.score(X_test,y_test)))\n",
    "    y_predict = svclassifier.predict(X_test)  \n",
    "    y_true=y_test\n",
    "    cm=confusion_matrix(y_true,y_predict)\n",
    "    f,ax=plt.subplots(figsize=(5,5))\n",
    "    sns.heatmap(cm,annot=True,linewidth=0.5,linecolor=\"red\",fmt=\".0f\",ax=ax)\n",
    "    plt.xlabel(\"y_pred\")\n",
    "    plt.ylabel(\"y_true\")\n",
    "    plt.show()"
   ]
  },
  {
   "cell_type": "code",
   "execution_count": null,
   "metadata": {},
   "outputs": [],
   "source": [
    "def build_classifier(X_train):\n",
    "    def bm():\n",
    "        classifier = Sequential() # initialize neural network\n",
    "        classifier.add(Dense(units = 80, kernel_initializer = 'uniform', activation = 'relu', input_dim = X_train.shape[1]))\n",
    "        classifier.add(Dense(units = 25, kernel_initializer = 'uniform', activation = 'relu'))              \n",
    "       # classifier.add(Dense(units = 25, kernel_initializer = 'uniform', activation = 'relu'))\n",
    "        classifier.add(Dense(units = 2, kernel_initializer = 'uniform', activation = 'softmax'))\n",
    "        lr=.003\n",
    "        adam0=Adam(lr=lr)\n",
    "\n",
    "        classifier.compile(optimizer =adam0, loss = 'categorical_crossentropy', metrics = ['accuracy'])\n",
    "        return classifier\n",
    "    return bm"
   ]
  },
  {
   "cell_type": "code",
   "execution_count": null,
   "metadata": {},
   "outputs": [],
   "source": [
    "def ANN(X_train, X_test, y_train, y_test):\n",
    "    y_ = to_categorical(y_train)\n",
    "    y_t=to_categorical(y_test)\n",
    "    estimator  = KerasClassifier(build_fn = build_classifier(X_train), epochs = 5)\n",
    "    accuracies = cross_val_score(estimator, X = X_train, y = y_, cv = 3)\n",
    "    mean = accuracies.mean()\n",
    "    variance = accuracies.std()\n",
    "    print(\"Accuracy mean: \"+ str(mean))\n",
    "    print(\"Accuracy variance: \"+ str(variance))\n",
    "    "
   ]
  },
  {
   "cell_type": "code",
   "execution_count": 71,
   "metadata": {},
   "outputs": [],
   "source": [
    "def feature_selection(df):\n",
    "    feature=(df.drop([' Label'],axis=1)).columns.values\n",
    "    labelencoder = LabelEncoder()\n",
    "    df.iloc[:, -1] = labelencoder.fit_transform(df.iloc[:, -1])\n",
    "    X = df.drop([' Label'],axis=1) \n",
    "    Y = df.iloc[:, -1].values.reshape(-1,1)\n",
    "    Y=np.ravel(Y)\n",
    "    imputer = Imputer(missing_values=\"NaN\", strategy = \"mean\")\n",
    "    imputer = imputer.fit(X)\n",
    "    X = imputer.transform(X)\n",
    "    rf = RandomForestRegressor()\n",
    "    rf.fit(X, Y)\n",
    "    print (\"Features sorted by their score:\")\n",
    "    print (sorted(zip(map(lambda x: round(x, 4), rf.feature_importances_), feature), reverse=True))"
   ]
  },
  {
   "cell_type": "markdown",
   "metadata": {},
   "source": [
    "## Feature"
   ]
  },
  {
   "cell_type": "code",
   "execution_count": null,
   "metadata": {},
   "outputs": [],
   "source": [
    "feature_selection(dataset)"
   ]
  },
  {
   "cell_type": "markdown",
   "metadata": {},
   "source": [
    "[(0.4612, ' Bwd Packet Length Std'), (0.2906, ' ECE Flag Count'), (0.1242, ' Bwd URG Flags'), (0.037, ' Subflow Bwd Packets'), (0.0325, ' Destination Port'), (0.011, ' Min Packet Length'), (0.0079, ' Bwd Packets/s'), (0.0069, ' Flow IAT Min'), (0.0058, ' min_seg_size_forward'), (0.0039, 'Bwd IAT Total'), (0.003, ' Subflow Bwd Bytes'), (0.0027, ' Flow Packets/s'), (0.002, ' Flow IAT Std'), (0.0011, ' Fwd Packet Length Std'), (0.0008, ' PSH Flag Count'), (0.0007, 'Fwd Packets/s'), (0.0006, 'Subflow Fwd Packets'), (0.0006, ' SYN Flag Count'), (0.0006, ' Fwd IAT Min'), (0.0006, ' Bwd IAT Std'), (0.0005, ' RST Flag Count'), (0.0004, 'Fwd IAT Total'), (0.0004, ' Total Backward Packets'), (0.0004, ' Fwd URG Flags'), (0.0004, ' Fwd Packet Length Max'), (0.0003, 'Flow Bytes/s'), (0.0003, ' Fwd Packet Length Min'), (0.0003, ' Fwd IAT Mean'), (0.0003, ' Flow IAT Max'), (0.0002, 'Total Length of Fwd Packets'), (0.0002, ' Total Length of Bwd Packets'), (0.0002, ' Subflow Fwd Bytes'), (0.0002, ' Fwd Header Length'), (0.0002, ' Flow IAT Mean'), (0.0002, ' Flow Duration'), (0.0002, ' Down/Up Ratio'), (0.0002, ' CWE Flag Count'), (0.0002, ' Bwd Header Length'), (0.0001, 'Bwd Packet Length Max'), (0.0001, 'Bwd Avg Bulk Rate'), (0.0001, ' Fwd Packet Length Mean'), (0.0001, ' Fwd IAT Std'), (0.0001, ' Bwd Packet Length Min'), (0.0001, ' Bwd Packet Length Mean'), (0.0001, ' Avg Fwd Segment Size'), (0.0001, ' Average Packet Size'), (0.0, 'Init_Win_bytes_forward'), (0.0, 'Idle Mean'), (0.0, 'Fwd PSH Flags'), (0.0, 'Fwd Avg Bytes/Bulk'), (0.0, 'FIN Flag Count'), (0.0, 'Active Mean'), (0.0, ' act_data_pkt_fwd'), (0.0, ' URG Flag Count'), (0.0, ' Total Fwd Packets'), (0.0, ' Packet Length Variance'), (0.0, ' Packet Length Std'), (0.0, ' Packet Length Mean'), (0.0, ' Max Packet Length'), (0.0, ' Init_Win_bytes_backward'), (0.0, ' Idle Std'), (0.0, ' Fwd IAT Max'), (0.0, ' Fwd Header Length.1'), (0.0, ' Fwd Avg Packets/Bulk'), (0.0, ' Fwd Avg Bulk Rate'), (0.0, ' Bwd PSH Flags'), (0.0, ' Bwd IAT Min'), (0.0, ' Bwd IAT Mean'), (0.0, ' Bwd IAT Max'), (0.0, ' Bwd Avg Packets/Bulk'), (0.0, ' Bwd Avg Bytes/Bulk'), (0.0, ' Avg Bwd Segment Size'), (0.0, ' Active Std'), (0.0, ' Active Min'), (0.0, ' Active Max'), (0.0, ' ACK Flag Count')]"
   ]
  },
  {
   "cell_type": "markdown",
   "metadata": {},
   "source": [
    "\n",
    "Creating train and test datasets for all dataframes."
   ]
  },
  {
   "cell_type": "code",
   "execution_count": null,
   "metadata": {},
   "outputs": [],
   "source": [
    "DDoSX_train, DDoSX_test, DDoSy_train, DDoSy_test=train_test_dataset(DDoS_df)\n",
    "NA_X_train, NA_X_test, NA_y_train, NA_y_test=train_test_dataset(NA_df)"
   ]
  },
  {
   "cell_type": "markdown",
   "metadata": {},
   "source": [
    "Algorithms for a dataframe containing DDoS and BENIGN"
   ]
  },
  {
   "cell_type": "code",
   "execution_count": null,
   "metadata": {},
   "outputs": [
    {
     "name": "stdout",
     "output_type": "stream",
     "text": [
      "Random Forest Accuracy:0.9999339582351879\n",
      "Random Forest precision_recall_fscore:0.99993395765878170.99993395823518790.999933955153156\n"
     ]
    },
    {
     "data": {
      "image/png": "[encoded data removed]",
      "text/plain": [
       "<Figure size 360x360 with 2 Axes>"
      ]
     },
     "metadata": {},
     "output_type": "display_data"
    }
   ],
   "source": [
    "ddosrf_score,ddosrf_precision,ddosrf_recall,ddosrf_fscore,none=RandomForest(DDoSX_train, DDoSX_test, DDoSy_train, DDoSy_test)"
   ]
  },
  {
   "cell_type": "code",
   "execution_count": null,
   "metadata": {},
   "outputs": [
    {
     "name": "stdout",
     "output_type": "stream",
     "text": [
      "Decision Tree Accuracy:0.9998591109017343\n",
      "Decision Tree precision_recall_fscore:0.99985913240242860.99985911090173430.9998591182049291\n"
     ]
    },
    {
     "data": {
      "image/png": "[encoded data removed]",
      "text/plain": [
       "<Figure size 360x360 with 2 Axes>"
      ]
     },
     "metadata": {},
     "output_type": "display_data"
    }
   ],
   "source": [
    "ddosdt_score,ddosdt_precision,ddosdt_recall,ddosdt_fscore,none=DecisionTree(DDoSX_train, DDoSX_test, DDoSy_train, DDoSy_test)"
   ]
  },
  {
   "cell_type": "code",
   "execution_count": null,
   "metadata": {},
   "outputs": [
    {
     "name": "stdout",
     "output_type": "stream",
     "text": [
      "5 nn score:0.9992295127438592\n",
      "5nn precision_recall_fscore:0.99923039066319210.99922951274385920.9992297880488104\n"
     ]
    },
    {
     "data": {
      "image/png": "[encoded data removed]",
      "text/plain": [
       "<Figure size 360x360 with 2 Axes>"
      ]
     },
     "metadata": {},
     "output_type": "display_data"
    }
   ],
   "source": [
    "ddosKnn_score,ddosKnn_precision,ddosKnn_recall,ddosKnn_fscore,none=kNN(DDoSX_train, DDoSX_test, DDoSy_train, DDoSy_test)"
   ]
  },
  {
   "cell_type": "code",
   "execution_count": null,
   "metadata": {},
   "outputs": [],
   "source": [
    "SVM(DDoSX_train, DDoSX_test, DDoSy_train, DDoSy_test)#Problem with SVM"
   ]
  },
  {
   "cell_type": "markdown",
   "metadata": {},
   "source": [
    "ANN accuracy:0.8307 "
   ]
  },
  {
   "cell_type": "code",
   "execution_count": null,
   "metadata": {},
   "outputs": [],
   "source": [
    "ANN(DDoSX_train, DDoSX_test, DDoSy_train, DDoSy_test)"
   ]
  },
  {
   "cell_type": "markdown",
   "metadata": {},
   "source": [
    "Algorithms for a dataframe containing Normal and Anormal."
   ]
  },
  {
   "cell_type": "code",
   "execution_count": null,
   "metadata": {},
   "outputs": [
    {
     "name": "stdout",
     "output_type": "stream",
     "text": [
      "Decision Tree Accuracy:0.9995587783916513\n",
      "Decision Tree precision_recall_fscore:0.99955879360599380.99955877839165130.9995587832663996\n"
     ]
    },
    {
     "data": {
      "image/png": "[encoded data removed]",
      "text/plain": [
       "<Figure size 360x360 with 2 Axes>"
      ]
     },
     "metadata": {},
     "output_type": "display_data"
    }
   ],
   "source": [
    "nadt_score,nadt_precision,nadt_recall,nadt_fscore,none=DecisionTree(NA_X_train, NA_X_test, NA_y_train, NA_y_test)"
   ]
  },
  {
   "cell_type": "code",
   "execution_count": null,
   "metadata": {
    "scrolled": true
   },
   "outputs": [],
   "source": [
    "naKnn_score,naKnn_precision,naKnn_recall,naKnn_fscore,none=kNN(NA_X_train, NA_X_test, NA_y_train, NA_y_test)"
   ]
  },
  {
   "cell_type": "markdown",
   "metadata": {},
   "source": [
    "KNN score:0.9949173461748578\n",
    "KNN precision_recall_fscore:0.99492979653577840.99491734617485780.994921687032628"
   ]
  },
  {
   "cell_type": "code",
   "execution_count": 74,
   "metadata": {},
   "outputs": [],
   "source": [
    "from sklearn.svm import SVC  # Importing the Support Vector Classifier (SVC) from scikit-learn\n",
    "\n",
    "# Define and assign values to NA_X_train, NA_X_test, NA_y_train, and NA_y_test\n",
    "# Replace the ellipsis (...) with your actual numerical values for the data\n",
    "NA_X_train = [[1, 2], [3, 4], [5, 6]]  # Example: List of lists containing training data\n",
    "NA_X_test = [[7, 8], [9, 10]]          # Example: List of lists containing testing data\n",
    "NA_y_train = [0, 1, 0]                 # Example: List containing labels for training data\n",
    "NA_y_test = [1, 0]                     # Example: List containing labels for testing data\n",
    "\n",
    "# Initialize the SVM model\n",
    "svm_model = SVC()\n",
    "\n",
    "# Train the SVM model\n",
    "svm_model.fit(NA_X_train, NA_y_train)\n",
    "\n",
    "# Now you can use the trained SVM model to make predictions on test data\n",
    "svm_predictions = svm_model.predict(NA_X_test)\n"
   ]
  },
  {
   "cell_type": "markdown",
   "metadata": {},
   "source": [
    "ANN accuracy:0.6034"
   ]
  },
  {
   "cell_type": "code",
   "execution_count": 75,
   "metadata": {},
   "outputs": [],
   "source": [
    "# Define and assign values to NA_X_train, NA_X_test, NA_y_train, and NA_y_test\n",
    "NA_X_train = ...  # Replace ... with your training data for input features\n",
    "NA_X_test = ...   # Replace ... with your testing data for input features\n",
    "NA_y_train = ...  # Replace ... with your training data for output labels\n",
    "NA_y_test = ...   # Replace ... with your testing data for output labels\n",
    "\n",
    "# Now define your ANN function\n",
    "def ANN(X_train, X_test, y_train, y_test):\n",
    "    # Your code for the ANN function goes here\n",
    "    pass  # Placeholder for the function body\n",
    "\n",
    "# Now you can call the ANN function with your data\n",
    "ANN(NA_X_train, NA_X_test, NA_y_train, NA_y_test)\n",
    "\n"
   ]
  },
  {
   "cell_type": "markdown",
   "metadata": {},
   "source": [
    "Accuracy table"
   ]
  },
  {
   "cell_type": "code",
   "execution_count": 1,
   "metadata": {},
   "outputs": [
    {
     "data": {
      "text/html": [
       "<div>\n",
       "<style scoped>\n",
       "    .dataframe tbody tr th:only-of-type {\n",
       "        vertical-align: middle;\n",
       "    }\n",
       "\n",
       "    .dataframe tbody tr th {\n",
       "        vertical-align: top;\n",
       "    }\n",
       "\n",
       "    .dataframe thead th {\n",
       "        text-align: right;\n",
       "    }\n",
       "</style>\n",
       "<table border=\"1\" class=\"dataframe\">\n",
       "  <thead>\n",
       "    <tr style=\"text-align: right;\">\n",
       "      <th></th>\n",
       "      <th>Algorithm</th>\n",
       "      <th>DDoS accuracy</th>\n",
       "      <th>Normal/Anormal accuracy</th>\n",
       "    </tr>\n",
       "  </thead>\n",
       "  <tbody>\n",
       "    <tr>\n",
       "      <th>0</th>\n",
       "      <td>Random Forest</td>\n",
       "      <td>0.926795</td>\n",
       "      <td>0.951628</td>\n",
       "    </tr>\n",
       "    <tr>\n",
       "      <th>1</th>\n",
       "      <td>Decision Tree</td>\n",
       "      <td>0.889289</td>\n",
       "      <td>0.929464</td>\n",
       "    </tr>\n",
       "    <tr>\n",
       "      <th>2</th>\n",
       "      <td>KNN</td>\n",
       "      <td>0.858274</td>\n",
       "      <td>0.909669</td>\n",
       "    </tr>\n",
       "    <tr>\n",
       "      <th>3</th>\n",
       "      <td>ANN</td>\n",
       "      <td>0.830700</td>\n",
       "      <td>0.603400</td>\n",
       "    </tr>\n",
       "  </tbody>\n",
       "</table>\n",
       "</div>"
      ],
      "text/plain": [
       "       Algorithm  DDoS accuracy  Normal/Anormal accuracy\n",
       "0  Random Forest       0.926795                 0.951628\n",
       "1  Decision Tree       0.889289                 0.929464\n",
       "2            KNN       0.858274                 0.909669\n",
       "3            ANN       0.830700                 0.603400"
      ]
     },
     "execution_count": 1,
     "metadata": {},
     "output_type": "execute_result"
    }
   ],
   "source": [
    "import pandas as pd\n",
    "\n",
    "# Sample accuracy scores\n",
    "ddosrf_score = 0.926795\n",
    "ddosdt_score = 0.889289\n",
    "ddosKnn_score = 0.858274\n",
    "narf_score = 0.951628\n",
    "nadt_score = 0.929464\n",
    "naKnn_score = 0.909669\n",
    "\n",
    "# Creating the DataFrame\n",
    "d = {\n",
    "    'Algorithm': [\"Random Forest\", \"Decision Tree\", \"KNN\", \"ANN\"], \n",
    "    'DDoS accuracy': [ddosrf_score, ddosdt_score, ddosKnn_score, 0.8307],\n",
    "    'Normal/Anormal accuracy': [narf_score, nadt_score, naKnn_score, 0.6034]\n",
    "}\n",
    "\n",
    "dataframe = pd.DataFrame(data=d)\n",
    "dataframe\n"
   ]
  }
 ],
 "metadata": {
  "kernelspec": {
   "display_name": "Python 3",
   "language": "python",
   "name": "python3"
  },
  "language_info": {
   "codemirror_mode": {
    "name": "ipython",
    "version": 3
   },
   "file_extension": ".py",
   "mimetype": "text/x-python",
   "name": "python",
   "nbconvert_exporter": "python",
   "pygments_lexer": "ipython3",
   "version": "3.12.0"
  }
 },
 "nbformat": 4,
 "nbformat_minor": 2
}
